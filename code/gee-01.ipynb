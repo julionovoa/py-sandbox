{
 "cells": [
  {
   "cell_type": "code",
   "execution_count": 1,
   "metadata": {},
   "outputs": [],
   "source": [
    "import ee\n",
    "ee.Initialize()"
   ]
  },
  {
   "cell_type": "code",
   "execution_count": 4,
   "metadata": {},
   "outputs": [],
   "source": [
    "import geemap"
   ]
  },
  {
   "cell_type": "code",
   "execution_count": 21,
   "metadata": {},
   "outputs": [],
   "source": [
    "# define area of interest shapefile, start/end search dates\n",
    "aoi = geemap.shp_to_ee(\"data/AOI_LonLat.shp\")\n",
    "start_date = \"2021-06-01\"\n",
    "end_date = \"2021-08-31\""
   ]
  },
  {
   "cell_type": "code",
   "execution_count": 22,
   "metadata": {},
   "outputs": [],
   "source": [
    "# get the images\n",
    "s2 = ee.ImageCollection(\"COPERNICUS/S2_SR\")\\\n",
    "       .filterBounds(aoi)\\\n",
    "       .filterMetadata(\"CLOUDY_PIXEL_PERCENTAGE\", \"less_than\", 0.2)\\\n",
    "       .filterDate(start_date, end_date)"
   ]
  },
  {
   "cell_type": "code",
   "execution_count": 32,
   "metadata": {},
   "outputs": [
    {
     "data": {
      "application/vnd.jupyter.widget-view+json": {
       "model_id": "ef4d4e1103f74df0924858a274a95c7b",
       "version_major": 2,
       "version_minor": 0
      },
      "text/plain": [
       "Map(center=[40, -100], controls=(WidgetControl(options=['position', 'transparent_bg'], widget=HBox(children=(T…"
      ]
     },
     "metadata": {},
     "output_type": "display_data"
    }
   ],
   "source": [
    "# Define the visualization parameters.\n",
    "vis = {\n",
    "    'bands': ['B4', 'B3', 'B2'],\n",
    "    'min': 10,\n",
    "    'max': 1000\n",
    "}\n",
    "\n",
    "m_s2 = geemap.Map()\n",
    "m_s2.centerObject(aoi)\n",
    "m_s2.addLayer(s2, vis, \"sentinel-2 (432)\")\n",
    "display(m_s2)"
   ]
  },
  {
   "cell_type": "code",
   "execution_count": 33,
   "metadata": {},
   "outputs": [],
   "source": [
    "s2_median = s2.median().clip(aoi)"
   ]
  },
  {
   "cell_type": "code",
   "execution_count": 34,
   "metadata": {},
   "outputs": [
    {
     "ename": "AttributeError",
     "evalue": "'Map' object has no attribute 'addlayer'",
     "output_type": "error",
     "traceback": [
      "\u001b[1;31m---------------------------------------------------------------------------\u001b[0m",
      "\u001b[1;31mAttributeError\u001b[0m                            Traceback (most recent call last)",
      "\u001b[1;32m~\\AppData\\Local\\Temp/ipykernel_7008/2101372979.py\u001b[0m in \u001b[0;36m<module>\u001b[1;34m\u001b[0m\n\u001b[0;32m      1\u001b[0m \u001b[0mm_s2_median\u001b[0m \u001b[1;33m=\u001b[0m \u001b[0mgeemap\u001b[0m\u001b[1;33m.\u001b[0m\u001b[0mMap\u001b[0m\u001b[1;33m(\u001b[0m\u001b[1;33m)\u001b[0m\u001b[1;33m\u001b[0m\u001b[1;33m\u001b[0m\u001b[0m\n\u001b[0;32m      2\u001b[0m \u001b[0mm_s2_median\u001b[0m\u001b[1;33m.\u001b[0m\u001b[0mcenterObject\u001b[0m\u001b[1;33m(\u001b[0m\u001b[0maoi\u001b[0m\u001b[1;33m)\u001b[0m\u001b[1;33m\u001b[0m\u001b[1;33m\u001b[0m\u001b[0m\n\u001b[1;32m----> 3\u001b[1;33m \u001b[0mm_s2_median\u001b[0m\u001b[1;33m.\u001b[0m\u001b[0maddlayer\u001b[0m\u001b[1;33m(\u001b[0m\u001b[0ms2_median\u001b[0m\u001b[1;33m,\u001b[0m \u001b[0mvis\u001b[0m\u001b[1;33m,\u001b[0m \u001b[1;34m'Median composite'\u001b[0m\u001b[1;33m)\u001b[0m\u001b[1;33m\u001b[0m\u001b[1;33m\u001b[0m\u001b[0m\n\u001b[0m\u001b[0;32m      4\u001b[0m \u001b[0mdisplay\u001b[0m\u001b[1;33m(\u001b[0m\u001b[0mm_s2_median\u001b[0m\u001b[1;33m)\u001b[0m\u001b[1;33m\u001b[0m\u001b[1;33m\u001b[0m\u001b[0m\n",
      "\u001b[1;31mAttributeError\u001b[0m: 'Map' object has no attribute 'addlayer'"
     ]
    }
   ],
   "source": [
    "m_s2_median = geemap.Map()\n",
    "m_s2_median.centerObject(aoi)\n",
    "m_s2_median.addlayer(s2_median, vis, 'Median composite')\n",
    "display(m_s2_median)"
   ]
  },
  {
   "cell_type": "code",
   "execution_count": 3,
   "metadata": {},
   "outputs": [],
   "source": [
    "import ee, eemont, geemap\n",
    "   \n",
    "# ee.Authenticate()\n",
    "ee.Initialize()\n",
    "\n",
    "point = ee.Geometry.PointFromQuery(\n",
    "    'Guayaquil, Ecuador',\n",
    "    user_agent = 'eemont-example'\n",
    ") # Extended constructor\n",
    "\n",
    "S2 = (ee.ImageCollection('COPERNICUS/S2_SR')\n",
    "    .filterBounds(point)\n",
    "    .closest('2020-10-15') # Extended (pre-processing)\n",
    "    .maskClouds(prob = 70) # Extended (pre-processing)\n",
    "    .scaleAndOffset() # Extended (pre-processing)\n",
    "    .spectralIndices(['NDVI','NDWI','BAIS2'])) # Extended (processing)"
   ]
  },
  {
   "cell_type": "code",
   "execution_count": 9,
   "metadata": {},
   "outputs": [
    {
     "data": {
      "application/vnd.jupyter.widget-view+json": {
       "model_id": "d279c6b2115f41a89e51521beaf8464e",
       "version_major": 2,
       "version_minor": 0
      },
      "text/plain": [
       "Map(center=[-2.1900703, -79.8868702], controls=(WidgetControl(options=['position', 'transparent_bg'], widget=H…"
      ]
     },
     "metadata": {},
     "output_type": "display_data"
    }
   ],
   "source": [
    "map_s2 = geemap.Map()\n",
    "vis = {\n",
    "    'bands': ['B4', 'B3', 'B2'],\n",
    "    'min': 10,\n",
    "    'max': 250\n",
    "}\n",
    "map_s2.centerObject(point, 12)\n",
    "map_s2.addLayer(S2, vis, \"Sentinel-2\")\n",
    "display(map_s2)"
   ]
  }
 ],
 "metadata": {
  "interpreter": {
   "hash": "7d4b484f41185b011ca8308b1605cad032101adb837c72215ea18d95626aedc2"
  },
  "kernelspec": {
   "display_name": "Python 3.9.7 64-bit ('geo': conda)",
   "language": "python",
   "name": "python3"
  },
  "language_info": {
   "codemirror_mode": {
    "name": "ipython",
    "version": 3
   },
   "file_extension": ".py",
   "mimetype": "text/x-python",
   "name": "python",
   "nbconvert_exporter": "python",
   "pygments_lexer": "ipython3",
   "version": "3.9.7"
  },
  "orig_nbformat": 4
 },
 "nbformat": 4,
 "nbformat_minor": 2
}

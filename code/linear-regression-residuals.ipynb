{
 "cells": [
  {
   "cell_type": "code",
   "execution_count": 1,
   "metadata": {},
   "outputs": [],
   "source": [
    "import pandas as pd\n",
    "import numpy as np\n",
    "import statsmodels.stats.api as sms\n",
    "import statsmodels.formula.api as smf\n",
    "from statsmodels.stats.diagnostic import lilliefors #Kolmogorov-Smirnov normality test\n",
    "import scipy.stats as scs # QQ plot\n",
    "from statsmodels.compat import lzip # Homocedascity test\n",
    "from statsmodels.tools.sm_exceptions import ValueWarning\n",
    "from statsmodels.stats.stattools import durbin_watson\n",
    "import matplotlib.pyplot as plt\n",
    "import seaborn as sns"
   ]
  },
  {
   "cell_type": "code",
   "execution_count": 26,
   "metadata": {},
   "outputs": [
    {
     "data": {
      "text/plain": [
       "dict_keys(['data', 'target', 'frame', 'target_names', 'DESCR', 'feature_names'])"
      ]
     },
     "execution_count": 26,
     "metadata": {},
     "output_type": "execute_result"
    }
   ],
   "source": [
    "# Load wine dataset\n",
    "import sklearn.datasets\n",
    "wine_tuple = sklearn.datasets.load_wine()\n",
    "wine_tuple.keys()"
   ]
  },
  {
   "cell_type": "code",
   "execution_count": 27,
   "metadata": {},
   "outputs": [],
   "source": [
    "# Create dataframe\n",
    "wine = pd.DataFrame(wine_tuple.data, columns=wine_tuple.feature_names)\n",
    "wine.rename(columns={'od280/od315_of_diluted_wines': 'test_diluted_wines'}, inplace=True)\n",
    "wine[\"target\"] = wine_tuple.target"
   ]
  },
  {
   "cell_type": "code",
   "execution_count": 29,
   "metadata": {},
   "outputs": [
    {
     "data": {
      "text/plain": [
       "alcohol                 0\n",
       "malic_acid              0\n",
       "ash                     0\n",
       "alcalinity_of_ash       0\n",
       "magnesium               0\n",
       "total_phenols           0\n",
       "flavanoids              0\n",
       "nonflavanoid_phenols    0\n",
       "proanthocyanins         0\n",
       "color_intensity         0\n",
       "hue                     0\n",
       "test_diluted_wines      0\n",
       "proline                 0\n",
       "target                  0\n",
       "dtype: int64"
      ]
     },
     "execution_count": 29,
     "metadata": {},
     "output_type": "execute_result"
    }
   ],
   "source": [
    "# Verify null values\n",
    "wine.isnull().sum()"
   ]
  },
  {
   "cell_type": "code",
   "execution_count": 43,
   "metadata": {},
   "outputs": [],
   "source": [
    "# Create linear model formula\n",
    "lm_formula = list(wine.columns)[-1] + \" ~ \" + \" + \".join(list(wine.columns)[:-1])"
   ]
  },
  {
   "cell_type": "code",
   "execution_count": 50,
   "metadata": {},
   "outputs": [],
   "source": [
    "# Create model\n",
    "model = smf.ols(lm_formula, wine).fit()"
   ]
  },
  {
   "cell_type": "code",
   "execution_count": 52,
   "metadata": {},
   "outputs": [],
   "source": [
    "# Get residuals\n",
    "res = model.resid"
   ]
  },
  {
   "cell_type": "code",
   "execution_count": 53,
   "metadata": {},
   "outputs": [
    {
     "name": "stdout",
     "output_type": "stream",
     "text": [
      "Normal | p-value: 0.48907680782480767\n",
      "-------------------------------\n",
      "Anderson:\n",
      "Normal | stat: 0.3454707176863394 :: p-value: 0.77\n"
     ]
    }
   ],
   "source": [
    "# Residuals normality tests\n",
    "\n",
    "# Kolmogorov-Smirnov test\n",
    "_, p = lilliefors(res, dist='norm')\n",
    "print('Not normal | p-value:' if p < 0.05 else 'Normal | p-value:', p)\n",
    "print('-------------------------------')\n",
    "\n",
    " # Anderson\n",
    "stat, p3, _ = scs.anderson(res, dist='norm')\n",
    "print('Anderson:')\n",
    "print('Not normal | stat:' if stat > p3[2] else 'Normal | stat:', stat, ':: p-value:', p3[2])"
   ]
  },
  {
   "cell_type": "code",
   "execution_count": 54,
   "metadata": {},
   "outputs": [
    {
     "data": {
      "text/plain": [
       "<AxesSubplot:>"
      ]
     },
     "execution_count": 54,
     "metadata": {},
     "output_type": "execute_result"
    },
    {
     "data": {
      "image/png": "[encoded data removed]",
      "text/plain": [
       "<Figure size 432x288 with 1 Axes>"
      ]
     },
     "metadata": {
      "needs_background": "light"
     },
     "output_type": "display_data"
    }
   ],
   "source": [
    "model.resid.hist()"
   ]
  },
  {
   "cell_type": "code",
   "execution_count": 56,
   "metadata": {},
   "outputs": [
    {
     "data": {
      "image/png": "[encoded data removed]",
      "text/plain": [
       "<Figure size 432x288 with 1 Axes>"
      ]
     },
     "metadata": {
      "needs_background": "light"
     },
     "output_type": "display_data"
    }
   ],
   "source": [
    "# QQPlot\n",
    "scs.probplot(res, dist='norm', plot=plt)\n",
    "plt.title('QQ Plot')\n",
    "plt.show()"
   ]
  },
  {
   "cell_type": "code",
   "execution_count": 57,
   "metadata": {},
   "outputs": [
    {
     "data": {
      "image/png": "[encoded data removed]",
      "text/plain": [
       "<Figure size 432x288 with 1 Axes>"
      ]
     },
     "metadata": {
      "needs_background": "light"
     },
     "output_type": "display_data"
    }
   ],
   "source": [
    "# Homocedasticity\n",
    "plt.scatter(y= res, x=model.predict(), color='red')\n",
    "plt.hlines(y=0, xmin=0, xmax=4, color='orange')\n",
    "plt.xlabel('Predicted values')\n",
    "plt.ylabel('Residuals')\n",
    "plt.show()"
   ]
  },
  {
   "cell_type": "code",
   "execution_count": 59,
   "metadata": {},
   "outputs": [
    {
     "name": "stdout",
     "output_type": "stream",
     "text": [
      "Test stat: 17.70748130273727\n",
      "p-Value: 0.1689453440693654\n",
      "F-Value: 1.3936189225753137\n",
      "f_p_value: 0.16718628629248083\n"
     ]
    }
   ],
   "source": [
    "# Ho = Homocedasticity = P > 0.05\n",
    "# Ha = There's no homocedasticity = p <=0.05\n",
    "\n",
    "stat, p, f, fp = sms.het_breuschpagan(res, model.model.exog)\n",
    "print(f'Test stat: {stat}')\n",
    "print(f'p-Value: {p}')\n",
    "print(f'F-Value: {f}')\n",
    "print(f'f_p_value: {fp}')"
   ]
  },
  {
   "cell_type": "code",
   "execution_count": 60,
   "metadata": {},
   "outputs": [
    {
     "name": "stdout",
     "output_type": "stream",
     "text": [
      "student_resid    3.648035\n",
      "unadj_p          0.985654\n",
      "bonf(p)          1.000000\n",
      "dtype: float64\n",
      "student_resid   -2.619212\n",
      "unadj_p          0.000355\n",
      "bonf(p)          0.063240\n",
      "dtype: float64\n"
     ]
    }
   ],
   "source": [
    "# Residuals outliers\n",
    "# It is recommended (rule-of-thumb) that the outliers stay between -3 and 3\n",
    "\n",
    "outliers = model.outlier_test()\n",
    "\n",
    "print(outliers.max())\n",
    "print(outliers.min())"
   ]
  },
  {
   "cell_type": "code",
   "execution_count": null,
   "metadata": {},
   "outputs": [],
   "source": []
  }
 ],
 "metadata": {
  "interpreter": {
   "hash": "7d4b484f41185b011ca8308b1605cad032101adb837c72215ea18d95626aedc2"
  },
  "kernelspec": {
   "display_name": "Python 3.9.7 64-bit ('geo': conda)",
   "language": "python",
   "name": "python3"
  },
  "language_info": {
   "codemirror_mode": {
    "name": "ipython",
    "version": 3
   },
   "file_extension": ".py",
   "mimetype": "text/x-python",
   "name": "python",
   "nbconvert_exporter": "python",
   "pygments_lexer": "ipython3",
   "version": "3.9.9"
  },
  "orig_nbformat": 4
 },
 "nbformat": 4,
 "nbformat_minor": 2
}

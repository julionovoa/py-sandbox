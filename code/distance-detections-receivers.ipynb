{
 "cells": [
  {
   "cell_type": "code",
   "execution_count": null,
   "metadata": {},
   "outputs": [],
   "source": [
    "import pandas as pd\n",
    "import gpxpy\n",
    "from geopy.distance import geodesic\n",
    "from glob import glob\n",
    "from os.path import join, dirname, basename"
   ]
  },
  {
   "cell_type": "code",
   "execution_count": null,
   "metadata": {},
   "outputs": [],
   "source": [
    "def gpx_to_df(gpx_file):\n",
    "    \"\"\"Convert gpx track points to a\n",
    "    pandas dataframe\"\"\"\n",
    "    # Read gpx file\n",
    "    with open(gpx_file) as f:\n",
    "        gpx = gpxpy.parse(f)\n",
    "    # Convert track points to dataframe\n",
    "    track_points = []\n",
    "    for track in gpx.tracks:\n",
    "        for segment in track.segments:\n",
    "            for point in segment.points:\n",
    "                track_points.append({\n",
    "                    'time': point.time,\n",
    "                    'latitude': point.latitude,\n",
    "                    'longitude': point.longitude\n",
    "                })\n",
    "    # Create a dataframe and set track points' timestamp as index\n",
    "    df = pd.DataFrame.from_records(track_points).set_index('time')\n",
    "    # Verify and eliminate duplicate index values\n",
    "    if df.index.is_unique == False:\n",
    "        return df.loc[~df.index.duplicated(), :]\n",
    "    else:\n",
    "        return df"
   ]
  },
  {
   "cell_type": "code",
   "execution_count": null,
   "metadata": {},
   "outputs": [],
   "source": [
    "def calculate_distances(track_points, receivers, receivers_id_column):\n",
    "    \"\"\"Calculate distances between\n",
    "    track points and receivers\"\"\"\n",
    "    # Empty list to store\n",
    "    big_list = []\n",
    "    # Loop each track point\n",
    "    for row in track_points.itertuples():\n",
    "        pt_distances_list = []\n",
    "        pt_distances_list.append(row[0])\n",
    "        pt_distances_list.append(row[1])\n",
    "        pt_distances_list.append(row[2])\n",
    "        for r in receivers.itertuples():\n",
    "            d = geodesic((row[1], row[2]), (r[2], r[3])).meters\n",
    "            pt_distances_list.append(d)\n",
    "        big_list.append(pt_distances_list)\n",
    "    col_names = ['Timestamp'] + track_points.columns.to_list() + receivers[receivers_id_column].to_list()\n",
    "    df = pd.DataFrame(big_list, columns=col_names)\n",
    "    return df\n"
   ]
  },
  {
   "cell_type": "code",
   "execution_count": null,
   "metadata": {},
   "outputs": [],
   "source": [
    "def get_gpx_list(folder):\n",
    "    \"\"\"Get a list of GPX files in\n",
    "    a folder\"\"\"\n",
    "    gpx_list = glob(join(folder, \"*.gpx\"))  \n",
    "    return gpx_list\n"
   ]
  },
  {
   "cell_type": "code",
   "execution_count": null,
   "metadata": {},
   "outputs": [],
   "source": [
    "# Loop through all GPX files and calculate distances\n",
    "# from track points to receivers\n",
    "for gpx in get_gpx_list(r'C:\\Users\\julio\\Desktop\\daver_gpx'):\n",
    "    # Import receivers\n",
    "    rx = pd.read_csv('../data/rx.csv')\n",
    "    # Import GPX track points\n",
    "    df = gpx_to_df(gpx)\n",
    "    # Interpolate coordinates every second\n",
    "    df_dense = df.resample('1S').interpolate()\n",
    "    # Calculate distances\n",
    "    dist = calculate_distances(df_dense, rx, 'id')\n",
    "    # Export results to CSV\n",
    "    output_filename = basename(gpx).split('.')[0] + '.csv'\n",
    "    dist.to_csv(join(dirname(gpx), output_filename))\n"
   ]
  },
  {
   "cell_type": "markdown",
   "metadata": {},
   "source": [
    "# Another approach using df.apply()"
   ]
  },
  {
   "cell_type": "code",
   "execution_count": null,
   "metadata": {},
   "outputs": [],
   "source": [
    "def get_distance(df, point):\n",
    "    dists = df[['coords']].apply(lambda x: geodesic(x, point).meters)\n",
    "    return dists"
   ]
  },
  {
   "cell_type": "code",
   "execution_count": null,
   "metadata": {},
   "outputs": [],
   "source": [
    "def calculate_distances_vec(track_points, receivers):\n",
    "    \"\"\"Calculate distances between\n",
    "    track points and receivers\"\"\"\n",
    "    # Loop through each receiver\n",
    "    for r in receivers.itertuples():\n",
    "        track_points[r[1]] = track_points[['coords']].apply(lambda x: get_distance(x, (r[2], r[3])), axis=1)\n",
    "    return track_points"
   ]
  },
  {
   "cell_type": "code",
   "execution_count": null,
   "metadata": {},
   "outputs": [],
   "source": [
    "# Loop through all GPX files and calculate distances\n",
    "# from track points to receivers\n",
    "for gpx in get_gpx_list(r'C:\\Users\\julio\\Desktop\\daver_gpx'):\n",
    "    # Import receivers\n",
    "    rx = pd.read_csv('../data/rx.csv')\n",
    "    # Import GPX track points\n",
    "    df = gpx_to_df(gpx)\n",
    "    # Interpolate coordinates every second\n",
    "    df_dense = df.resample('1S').interpolate()\n",
    "    # Add a column with coordinates in a tuple\n",
    "    df_dense['coords'] = list(zip(df_dense['latitude'], df_dense['longitude']))\n",
    "    # Calculate distances\n",
    "    dist = calculate_distances_vec(df_dense, rx)\n",
    "    # Export results to CSV\n",
    "    output_filename = basename(gpx).split('.')[0] + '.csv'\n",
    "    dist.to_csv(join(dirname(gpx), output_filename))\n",
    "    "
   ]
  },
  {
   "cell_type": "markdown",
   "metadata": {},
   "source": [
    "# Random tests"
   ]
  },
  {
   "cell_type": "code",
   "execution_count": null,
   "metadata": {},
   "outputs": [],
   "source": [
    "df.index.is_unique\n",
    "#df.index.duplicated()\n",
    "#df.loc[~df.index.duplicated(), :]"
   ]
  },
  {
   "cell_type": "code",
   "execution_count": null,
   "metadata": {},
   "outputs": [],
   "source": [
    "dist.to_csv(join(dirname(gpx), output_filename))"
   ]
  },
  {
   "cell_type": "code",
   "execution_count": null,
   "metadata": {},
   "outputs": [],
   "source": [
    "x = pd.DataFrame({'latitude': [1, 2, 0.1, 0.1], \n",
    "                   'longitude': [1, 2, 0.7, 0.2], \n",
    "                   'column 3': [1, 2, 3, 4]})"
   ]
  },
  {
   "cell_type": "code",
   "execution_count": null,
   "metadata": {},
   "outputs": [],
   "source": [
    "x['coords'] = list(zip(x['latitude'], x['longitude']))\n",
    "x.dtypes"
   ]
  },
  {
   "cell_type": "code",
   "execution_count": null,
   "metadata": {},
   "outputs": [],
   "source": [
    "x['dist1'] = x[['latitude', 'longitude']].apply(lambda row: geodesic(row, (0,0)), axis=1)\n",
    "x['dist2'] = x[['latitude', 'longitude']].apply(lambda row: geodesic(row, (1,-1)), axis=1)\n",
    "x"
   ]
  },
  {
   "cell_type": "code",
   "execution_count": null,
   "metadata": {},
   "outputs": [],
   "source": [
    "x['dist3'] = x[['coords']].apply(lambda x: geodesic(x, (0,0)), axis=1)\n",
    "x"
   ]
  },
  {
   "cell_type": "markdown",
   "metadata": {},
   "source": [
    "# Convert between time zones"
   ]
  },
  {
   "cell_type": "code",
   "execution_count": null,
   "metadata": {},
   "outputs": [],
   "source": [
    "import pytz\n",
    "df2 = df.iloc[1:10]\n",
    "df2"
   ]
  },
  {
   "cell_type": "code",
   "execution_count": null,
   "metadata": {},
   "outputs": [],
   "source": [
    "df2.index.tz_convert(pytz.timezone('America/Vancouver'))"
   ]
  },
  {
   "cell_type": "code",
   "execution_count": null,
   "metadata": {},
   "outputs": [],
   "source": [
    "df2.index"
   ]
  }
 ],
 "metadata": {
  "interpreter": {
   "hash": "7d4b484f41185b011ca8308b1605cad032101adb837c72215ea18d95626aedc2"
  },
  "kernelspec": {
   "display_name": "Python 3.9.7 64-bit ('geo': conda)",
   "language": "python",
   "name": "python3"
  },
  "language_info": {
   "codemirror_mode": {
    "name": "ipython",
    "version": 3
   },
   "file_extension": ".py",
   "mimetype": "text/x-python",
   "name": "python",
   "nbconvert_exporter": "python",
   "pygments_lexer": "ipython3",
   "version": "3.9.7"
  },
  "orig_nbformat": 4
 },
 "nbformat": 4,
 "nbformat_minor": 2
}
